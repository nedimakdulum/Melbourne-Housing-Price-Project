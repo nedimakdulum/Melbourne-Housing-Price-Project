{
  "nbformat": 4,
  "nbformat_minor": 0,
  "metadata": {
    "colab": {
      "provenance": []
    },
    "kernelspec": {
      "name": "python3",
      "display_name": "Python 3"
    },
    "language_info": {
      "name": "python"
    }
  },
  "cells": [
    {
      "cell_type": "code",
      "execution_count": 2,
      "metadata": {
        "colab": {
          "base_uri": "https://localhost:8080/"
        },
        "id": "MtI7P7YqLsHt",
        "outputId": "8b21243f-5125-48f1-b90b-a7ec3871bac1"
      },
      "outputs": [
        {
          "output_type": "stream",
          "name": "stderr",
          "text": [
            "/usr/local/lib/python3.10/dist-packages/sklearn/preprocessing/_encoders.py:868: FutureWarning: `sparse` was renamed to `sparse_output` in version 1.2 and will be removed in 1.4. `sparse_output` is ignored unless you leave `sparse` to its default value.\n",
            "  warnings.warn(\n"
          ]
        },
        {
          "output_type": "stream",
          "name": "stdout",
          "text": [
            "Model Değerlendirmesi:\n",
            "MAE: 257315.7359212513\n",
            "MSE: 175782214831.24188\n",
            "RMSE: 419263.8964080283\n",
            "R2: 0.5591926495399457\n"
          ]
        }
      ],
      "source": [
        "import numpy as np\n",
        "import pandas as pd\n",
        "from sklearn.model_selection import train_test_split\n",
        "from sklearn.metrics import mean_absolute_error, mean_squared_error, r2_score\n",
        "from sklearn.experimental import enable_hist_gradient_boosting\n",
        "from sklearn.ensemble import HistGradientBoostingRegressor\n",
        "from sklearn.impute import SimpleImputer\n",
        "from sklearn.preprocessing import OneHotEncoder\n",
        "\n",
        "data = pd.read_csv(\"Melbourne_housing_FULL.csv\")\n",
        "\n",
        "categorical_columns = ['Suburb', 'Address', 'Type', 'Method', 'SellerG', 'Date', 'CouncilArea', 'Regionname']\n",
        "\n",
        "for column in categorical_columns:\n",
        "    most_frequent = data[column].mode()[0]\n",
        "    data[column].fillna(most_frequent, inplace=True)\n",
        "\n",
        "price_imputer = SimpleImputer(strategy='mean')\n",
        "data['Price'] = price_imputer.fit_transform(data[['Price']])\n",
        "\n",
        "\n",
        "encoder = OneHotEncoder(drop='first', sparse=False)\n",
        "data_encoded = encoder.fit_transform(data[categorical_columns])\n",
        "\n",
        "encoded_columns = encoder.get_feature_names_out(categorical_columns)\n",
        "data_encoded_df = pd.DataFrame(data_encoded, columns=encoded_columns)\n",
        "\n",
        "data = data.drop(columns=categorical_columns)\n",
        "data = pd.concat([data, data_encoded_df], axis=1)\n",
        "\n",
        "X = data.drop(columns=['Price'])\n",
        "y = data['Price']\n",
        "\n",
        "X_train, X_test, y_train, y_test = train_test_split(X, y, test_size=0.2, random_state=42)\n",
        "\n",
        "model = HistGradientBoostingRegressor()\n",
        "model.fit(X_train, y_train)\n",
        "y_pred = model.predict(X_test)\n",
        "mae = mean_absolute_error(y_test, y_pred)\n",
        "mse = mean_squared_error(y_test, y_pred)\n",
        "rmse = np.sqrt(mse)\n",
        "r2 = r2_score(y_test, y_pred)\n",
        "\n",
        "print(\"Model Değerlendirmesi:\")\n",
        "print(f\"MAE: {mae}\")\n",
        "print(f\"MSE: {mse}\")\n",
        "print(f\"RMSE: {rmse}\")\n",
        "print(f\"R2: {r2}\")"
      ]
    }
  ]
}